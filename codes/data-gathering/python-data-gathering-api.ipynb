{
 "cells": [
  {
   "cell_type": "code",
   "execution_count": 15,
   "metadata": {},
   "outputs": [],
   "source": [
    "from newsapi import NewsApiClient"
   ]
  },
  {
   "cell_type": "code",
   "execution_count": 14,
   "metadata": {},
   "outputs": [
    {
     "name": "stdout",
     "output_type": "stream",
     "text": [
      "Requirement already satisfied: newsapi-python in /Users/raunakadvani/opt/anaconda3/envs/ANLY501/lib/python3.10/site-packages (0.2.6)\n",
      "Requirement already satisfied: requests<3.0.0 in /Users/raunakadvani/opt/anaconda3/envs/ANLY501/lib/python3.10/site-packages (from newsapi-python) (2.28.1)\n",
      "Requirement already satisfied: certifi>=2017.4.17 in /Users/raunakadvani/opt/anaconda3/envs/ANLY501/lib/python3.10/site-packages (from requests<3.0.0->newsapi-python) (2022.6.15)\n",
      "Requirement already satisfied: charset-normalizer<3,>=2 in /Users/raunakadvani/opt/anaconda3/envs/ANLY501/lib/python3.10/site-packages (from requests<3.0.0->newsapi-python) (2.0.4)\n",
      "Requirement already satisfied: idna<4,>=2.5 in /Users/raunakadvani/opt/anaconda3/envs/ANLY501/lib/python3.10/site-packages (from requests<3.0.0->newsapi-python) (3.3)\n",
      "Requirement already satisfied: urllib3<1.27,>=1.21.1 in /Users/raunakadvani/opt/anaconda3/envs/ANLY501/lib/python3.10/site-packages (from requests<3.0.0->newsapi-python) (1.26.11)\n"
     ]
    }
   ],
   "source": [
    "import sys\n",
    "!{sys.executable} -m pip install newsapi-python"
   ]
  },
  {
   "cell_type": "code",
   "execution_count": 22,
   "metadata": {},
   "outputs": [],
   "source": [
    "# Init\n",
    "newsapi = NewsApiClient(api_key='14ed3cee65aa40e2aeb6dc753d1011d5')\n",
    "\n",
    "# /v2/top-headlines\n",
    "top_headlines = newsapi.get_top_headlines(q='economy',\n",
    "                                          sources='bbc-news,the-verge',\n",
    "                                          language='en')\n",
    "\n",
    "# /v2/everything\n",
    "all_articles = newsapi.get_everything(q='economy',\n",
    "                                      sources='bbc-news,the-verge',\n",
    "                                      domains='bbc.co.uk,techcrunch.com',\n",
    "                                      from_param='2022-09-09',\n",
    "                                      to='2022-09-12',\n",
    "                                      language='en',\n",
    "                                      sort_by='relevancy',\n",
    "                                      page=2)\n",
    "\n",
    "# /v2/top-headlines/sources\n",
    "sources = newsapi.get_sources()\n",
    "\n",
    "articles_raw = all_articles['articles']s\n",
    "\n",
    "df_raw =pd.Dataframe"
   ]
  },
  {
   "cell_type": "code",
   "execution_count": null,
   "metadata": {},
   "outputs": [],
   "source": [
    "articles_raw = news_data_raw['articles']\n"
   ]
  },
  {
   "cell_type": "code",
   "execution_count": null,
   "metadata": {},
   "outputs": [],
   "source": []
  }
 ],
 "metadata": {
  "kernelspec": {
   "display_name": "Python 3.10.4 ('ANLY501')",
   "language": "python",
   "name": "python3"
  },
  "language_info": {
   "codemirror_mode": {
    "name": "ipython",
    "version": 3
   },
   "file_extension": ".py",
   "mimetype": "text/x-python",
   "name": "python",
   "nbconvert_exporter": "python",
   "pygments_lexer": "ipython3",
   "version": "3.10.4"
  },
  "orig_nbformat": 4,
  "vscode": {
   "interpreter": {
    "hash": "50713bdbbc3e204e62da7d6202fa01285d9e5e5c1c31384dff8d47ea6cf2274a"
   }
  }
 },
 "nbformat": 4,
 "nbformat_minor": 2
}
