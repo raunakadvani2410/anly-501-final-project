{
 "cells": [
  {
   "cell_type": "markdown",
   "metadata": {},
   "source": [
    "# Binary Classification of Text Data (Twitter API) using SVM"
   ]
  },
  {
   "cell_type": "markdown",
   "metadata": {},
   "source": [
    "This tab will explore the performance of SVM Kernels on my cleaned text data, which was gathered using the Twitter API. My sentiment analysis on the text data yielded an average sentiment of 0.04, which is neither positive or negative. This means that our data is not imbalanced and can be used for analysis. "
   ]
  },
  {
   "cell_type": "markdown",
   "metadata": {},
   "source": [
    "### Methods"
   ]
  },
  {
   "cell_type": "markdown",
   "metadata": {},
   "source": [
    "The first step of our SVM modelling is to test our data on a random classifier, which is a baseline model. The random classifier will output precision, accuracy, and recall values."
   ]
  },
  {
   "cell_type": "code",
   "execution_count": 7,
   "metadata": {},
   "outputs": [],
   "source": [
    "import pandas as pd\n",
    "import numpy as np\n",
    "import matplotlib.pyplot as plt\n",
    "import seaborn as sns\n",
    "from sklearn.metrics import confusion_matrix, ConfusionMatrixDisplay, classification_report\n",
    "import warnings\n",
    "import os\n",
    "warnings.filterwarnings('always')"
   ]
  },
  {
   "cell_type": "markdown",
   "metadata": {},
   "source": [
    "### Load the cleaned data"
   ]
  },
  {
   "cell_type": "code",
   "execution_count": 9,
   "metadata": {},
   "outputs": [],
   "source": [
    "tweets_news_clean = pd.read_csv(\"../../data/clean-data/news_clean.csv\")"
   ]
  },
  {
   "cell_type": "code",
   "execution_count": 10,
   "metadata": {},
   "outputs": [
    {
     "data": {
      "text/html": [
       "<div>\n",
       "<style scoped>\n",
       "    .dataframe tbody tr th:only-of-type {\n",
       "        vertical-align: middle;\n",
       "    }\n",
       "\n",
       "    .dataframe tbody tr th {\n",
       "        vertical-align: top;\n",
       "    }\n",
       "\n",
       "    .dataframe thead th {\n",
       "        text-align: right;\n",
       "    }\n",
       "</style>\n",
       "<table border=\"1\" class=\"dataframe\">\n",
       "  <thead>\n",
       "    <tr style=\"text-align: right;\">\n",
       "      <th></th>\n",
       "      <th>Unnamed: 0</th>\n",
       "      <th>Content_Lemmatized_Sentiment_Analysis</th>\n",
       "      <th>sentiment_rating</th>\n",
       "      <th>label</th>\n",
       "    </tr>\n",
       "  </thead>\n",
       "  <tbody>\n",
       "    <tr>\n",
       "      <th>0</th>\n",
       "      <td>0</td>\n",
       "      <td>riyadh oct reuters global recession avoided go...</td>\n",
       "      <td>-0.8225</td>\n",
       "      <td>Negative</td>\n",
       "    </tr>\n",
       "    <tr>\n",
       "      <th>1</th>\n",
       "      <td>1</td>\n",
       "      <td>melbourne sept reuters oil price dipped early ...</td>\n",
       "      <td>-0.6249</td>\n",
       "      <td>Negative</td>\n",
       "    </tr>\n",
       "    <tr>\n",
       "      <th>2</th>\n",
       "      <td>2</td>\n",
       "      <td>posted bank england raised key interest rate t...</td>\n",
       "      <td>0.4588</td>\n",
       "      <td>Positive</td>\n",
       "    </tr>\n",
       "    <tr>\n",
       "      <th>3</th>\n",
       "      <td>3</td>\n",
       "      <td>washington sept reuters downside risk continue...</td>\n",
       "      <td>-0.7506</td>\n",
       "      <td>Negative</td>\n",
       "    </tr>\n",
       "    <tr>\n",
       "      <th>4</th>\n",
       "      <td>4</td>\n",
       "      <td>london sept reuters sterling surrendered gain ...</td>\n",
       "      <td>0.7506</td>\n",
       "      <td>Positive</td>\n",
       "    </tr>\n",
       "    <tr>\n",
       "      <th>...</th>\n",
       "      <td>...</td>\n",
       "      <td>...</td>\n",
       "      <td>...</td>\n",
       "      <td>...</td>\n",
       "    </tr>\n",
       "    <tr>\n",
       "      <th>451</th>\n",
       "      <td>451</td>\n",
       "      <td>though briefly dipped early august average yea...</td>\n",
       "      <td>0.2732</td>\n",
       "      <td>Positive</td>\n",
       "    </tr>\n",
       "    <tr>\n",
       "      <th>452</th>\n",
       "      <td>452</td>\n",
       "      <td>u treasury secretary janet yellen said hopeful...</td>\n",
       "      <td>0.9337</td>\n",
       "      <td>Positive</td>\n",
       "    </tr>\n",
       "    <tr>\n",
       "      <th>453</th>\n",
       "      <td>453</td>\n",
       "      <td>likely u inflation start cool soon imbalance l...</td>\n",
       "      <td>0.7430</td>\n",
       "      <td>Positive</td>\n",
       "    </tr>\n",
       "    <tr>\n",
       "      <th>454</th>\n",
       "      <td>454</td>\n",
       "      <td>china yuan weakened lowest level since july th...</td>\n",
       "      <td>-0.3182</td>\n",
       "      <td>Negative</td>\n",
       "    </tr>\n",
       "    <tr>\n",
       "      <th>455</th>\n",
       "      <td>455</td>\n",
       "      <td>insider expert choose best product service hel...</td>\n",
       "      <td>0.8625</td>\n",
       "      <td>Positive</td>\n",
       "    </tr>\n",
       "  </tbody>\n",
       "</table>\n",
       "<p>456 rows × 4 columns</p>\n",
       "</div>"
      ],
      "text/plain": [
       "     Unnamed: 0              Content_Lemmatized_Sentiment_Analysis  \\\n",
       "0             0  riyadh oct reuters global recession avoided go...   \n",
       "1             1  melbourne sept reuters oil price dipped early ...   \n",
       "2             2  posted bank england raised key interest rate t...   \n",
       "3             3  washington sept reuters downside risk continue...   \n",
       "4             4  london sept reuters sterling surrendered gain ...   \n",
       "..          ...                                                ...   \n",
       "451         451  though briefly dipped early august average yea...   \n",
       "452         452  u treasury secretary janet yellen said hopeful...   \n",
       "453         453  likely u inflation start cool soon imbalance l...   \n",
       "454         454  china yuan weakened lowest level since july th...   \n",
       "455         455  insider expert choose best product service hel...   \n",
       "\n",
       "     sentiment_rating     label  \n",
       "0             -0.8225  Negative  \n",
       "1             -0.6249  Negative  \n",
       "2              0.4588  Positive  \n",
       "3             -0.7506  Negative  \n",
       "4              0.7506  Positive  \n",
       "..                ...       ...  \n",
       "451            0.2732  Positive  \n",
       "452            0.9337  Positive  \n",
       "453            0.7430  Positive  \n",
       "454           -0.3182  Negative  \n",
       "455            0.8625  Positive  \n",
       "\n",
       "[456 rows x 4 columns]"
      ]
     },
     "execution_count": 10,
     "metadata": {},
     "output_type": "execute_result"
    }
   ],
   "source": [
    "tweets_news_clean"
   ]
  },
  {
   "cell_type": "code",
   "execution_count": 11,
   "metadata": {},
   "outputs": [],
   "source": [
    "tweets_news_clean.drop(['Unnamed: 0'], axis = 1, inplace = True)"
   ]
  },
  {
   "cell_type": "code",
   "execution_count": 12,
   "metadata": {},
   "outputs": [
    {
     "data": {
      "text/html": [
       "<div>\n",
       "<style scoped>\n",
       "    .dataframe tbody tr th:only-of-type {\n",
       "        vertical-align: middle;\n",
       "    }\n",
       "\n",
       "    .dataframe tbody tr th {\n",
       "        vertical-align: top;\n",
       "    }\n",
       "\n",
       "    .dataframe thead th {\n",
       "        text-align: right;\n",
       "    }\n",
       "</style>\n",
       "<table border=\"1\" class=\"dataframe\">\n",
       "  <thead>\n",
       "    <tr style=\"text-align: right;\">\n",
       "      <th></th>\n",
       "      <th>Content_Lemmatized_Sentiment_Analysis</th>\n",
       "      <th>sentiment_rating</th>\n",
       "      <th>label</th>\n",
       "    </tr>\n",
       "  </thead>\n",
       "  <tbody>\n",
       "    <tr>\n",
       "      <th>0</th>\n",
       "      <td>riyadh oct reuters global recession avoided go...</td>\n",
       "      <td>-0.8225</td>\n",
       "      <td>Negative</td>\n",
       "    </tr>\n",
       "    <tr>\n",
       "      <th>1</th>\n",
       "      <td>melbourne sept reuters oil price dipped early ...</td>\n",
       "      <td>-0.6249</td>\n",
       "      <td>Negative</td>\n",
       "    </tr>\n",
       "    <tr>\n",
       "      <th>2</th>\n",
       "      <td>posted bank england raised key interest rate t...</td>\n",
       "      <td>0.4588</td>\n",
       "      <td>Positive</td>\n",
       "    </tr>\n",
       "    <tr>\n",
       "      <th>3</th>\n",
       "      <td>washington sept reuters downside risk continue...</td>\n",
       "      <td>-0.7506</td>\n",
       "      <td>Negative</td>\n",
       "    </tr>\n",
       "    <tr>\n",
       "      <th>4</th>\n",
       "      <td>london sept reuters sterling surrendered gain ...</td>\n",
       "      <td>0.7506</td>\n",
       "      <td>Positive</td>\n",
       "    </tr>\n",
       "    <tr>\n",
       "      <th>...</th>\n",
       "      <td>...</td>\n",
       "      <td>...</td>\n",
       "      <td>...</td>\n",
       "    </tr>\n",
       "    <tr>\n",
       "      <th>451</th>\n",
       "      <td>though briefly dipped early august average yea...</td>\n",
       "      <td>0.2732</td>\n",
       "      <td>Positive</td>\n",
       "    </tr>\n",
       "    <tr>\n",
       "      <th>452</th>\n",
       "      <td>u treasury secretary janet yellen said hopeful...</td>\n",
       "      <td>0.9337</td>\n",
       "      <td>Positive</td>\n",
       "    </tr>\n",
       "    <tr>\n",
       "      <th>453</th>\n",
       "      <td>likely u inflation start cool soon imbalance l...</td>\n",
       "      <td>0.7430</td>\n",
       "      <td>Positive</td>\n",
       "    </tr>\n",
       "    <tr>\n",
       "      <th>454</th>\n",
       "      <td>china yuan weakened lowest level since july th...</td>\n",
       "      <td>-0.3182</td>\n",
       "      <td>Negative</td>\n",
       "    </tr>\n",
       "    <tr>\n",
       "      <th>455</th>\n",
       "      <td>insider expert choose best product service hel...</td>\n",
       "      <td>0.8625</td>\n",
       "      <td>Positive</td>\n",
       "    </tr>\n",
       "  </tbody>\n",
       "</table>\n",
       "<p>456 rows × 3 columns</p>\n",
       "</div>"
      ],
      "text/plain": [
       "                 Content_Lemmatized_Sentiment_Analysis  sentiment_rating  \\\n",
       "0    riyadh oct reuters global recession avoided go...           -0.8225   \n",
       "1    melbourne sept reuters oil price dipped early ...           -0.6249   \n",
       "2    posted bank england raised key interest rate t...            0.4588   \n",
       "3    washington sept reuters downside risk continue...           -0.7506   \n",
       "4    london sept reuters sterling surrendered gain ...            0.7506   \n",
       "..                                                 ...               ...   \n",
       "451  though briefly dipped early august average yea...            0.2732   \n",
       "452  u treasury secretary janet yellen said hopeful...            0.9337   \n",
       "453  likely u inflation start cool soon imbalance l...            0.7430   \n",
       "454  china yuan weakened lowest level since july th...           -0.3182   \n",
       "455  insider expert choose best product service hel...            0.8625   \n",
       "\n",
       "        label  \n",
       "0    Negative  \n",
       "1    Negative  \n",
       "2    Positive  \n",
       "3    Negative  \n",
       "4    Positive  \n",
       "..        ...  \n",
       "451  Positive  \n",
       "452  Positive  \n",
       "453  Positive  \n",
       "454  Negative  \n",
       "455  Positive  \n",
       "\n",
       "[456 rows x 3 columns]"
      ]
     },
     "execution_count": 12,
     "metadata": {},
     "output_type": "execute_result"
    }
   ],
   "source": [
    "tweets_news_clean"
   ]
  },
  {
   "cell_type": "code",
   "execution_count": 32,
   "metadata": {},
   "outputs": [
    {
     "data": {
      "text/plain": [
       "0.036431359649122745"
      ]
     },
     "execution_count": 32,
     "metadata": {},
     "output_type": "execute_result"
    }
   ],
   "source": [
    "tweets_news_clean['sentiment_rating'].mean()"
   ]
  },
  {
   "cell_type": "code",
   "execution_count": 14,
   "metadata": {},
   "outputs": [
    {
     "name": "stdout",
     "output_type": "stream",
     "text": [
      "The data shape is  (456, 3)\n"
     ]
    }
   ],
   "source": [
    "print(\"The data shape is \", tweets_news_clean.shape)"
   ]
  },
  {
   "cell_type": "markdown",
   "metadata": {},
   "source": [
    "### Split into training and testing\n",
    "Our dependent variable is the sentiment score, and the independent variable is the words from the cleaned tweets. "
   ]
  },
  {
   "cell_type": "code",
   "execution_count": 15,
   "metadata": {},
   "outputs": [],
   "source": [
    "from sklearn.model_selection import train_test_split\n",
    "from sklearn.feature_extraction.text import CountVectorizer\n",
    "np.random.seed(3737)\n",
    "\n",
    "X = tweets_news_clean[\"Content_Lemmatized_Sentiment_Analysis\"]\n",
    "\n",
    "y = tweets_news_clean[\"label\"]\n",
    "\n",
    "x_train, x_test, y_train, y_test = train_test_split(X, y, \n",
    "    random_state = 1,test_size=0.2\n",
    ")\n",
    "\n",
    "count_vector = CountVectorizer()\n",
    "\n",
    "training_data = count_vector.fit_transform(x_train)\n",
    "testing_data = count_vector.transform(x_test)"
   ]
  },
  {
   "cell_type": "code",
   "execution_count": 16,
   "metadata": {},
   "outputs": [
    {
     "name": "stdout",
     "output_type": "stream",
     "text": [
      "Shape of x_train is:  (364,)\n",
      "Shape of x_test is:  (92,)\n",
      "Shape of y_train is:  (364,)\n",
      "Shape of y_test is:  (92,)\n",
      "The levels of the dependent variable (Sentiment) are:\n",
      "Positive    274\n",
      "Negative    182\n",
      "Name: label, dtype: int64\n"
     ]
    }
   ],
   "source": [
    "print(\"Shape of x_train is: \", x_train.shape)\n",
    "print(\"Shape of x_test is: \",x_test.shape)\n",
    "print(\"Shape of y_train is: \",y_train.shape)\n",
    "print(\"Shape of y_test is: \",y_test.shape)\n",
    "print(\"The levels of the dependent variable (Sentiment) are:\")\n",
    "print(y.value_counts())"
   ]
  },
  {
   "cell_type": "code",
   "execution_count": 17,
   "metadata": {},
   "outputs": [],
   "source": [
    "import numpy as np\n",
    "import random\n",
    "from collections import Counter\n",
    "from sklearn.metrics import accuracy_score\n",
    "from sklearn.metrics import precision_recall_fscore_support\n",
    "\n"
   ]
  },
  {
   "cell_type": "code",
   "execution_count": 21,
   "metadata": {},
   "outputs": [],
   "source": [
    "def random_classifier(y_data):\n",
    "    ypred=[]\n",
    "    max_label=np.max(y_data); #print(max_label)\n",
    "    for i in range(0,len(y_data)):\n",
    "        ypred.append(int(np.floor((max_label+1)*np.random.uniform(0,1))))\n",
    "\n",
    "    print(\"\\n\\n-----RANDOM CLASSIFIER-----\")\n",
    "    print(\"count of prediction:\",Counter(ypred).values()) \n",
    "    print(\"probability of prediction:\",np.fromiter(Counter(ypred).values(), dtype=float)/len(y_data)) \n",
    "    print(\"accuracy\",accuracy_score(y_data, ypred))\n",
    "    print(\"precision, recall, fscore, support\",precision_recall_fscore_support(y_data, ypred))\n",
    "\n"
   ]
  },
  {
   "cell_type": "code",
   "execution_count": 22,
   "metadata": {},
   "outputs": [
    {
     "name": "stdout",
     "output_type": "stream",
     "text": [
      "\n",
      "BINARY CLASS: NON-UNIFORM LOAD (Positive: 175 count, Negative: 205 count\n",
      "Unique labels and respective counts after one-hot encoding: \n",
      "0 = Negative and 1 = Positive\n",
      "[[  0 182]\n",
      " [  1 274]]\n",
      "\n",
      "\n",
      "-----RANDOM CLASSIFIER-----\n",
      "count of prediction: dict_values([243, 213])\n",
      "probability of prediction: [0.53289474 0.46710526]\n",
      "accuracy 0.5109649122807017\n",
      "precision, recall, fscore, support (array([0.41563786, 0.61971831]), array([0.55494505, 0.48175182]), array([0.47529412, 0.54209446]), array([182, 274]))\n"
     ]
    }
   ],
   "source": [
    "from sklearn import preprocessing\n",
    "  \n",
    "# label_encoder object knows how to understand word labels.\n",
    "label_encoder = preprocessing.LabelEncoder()\n",
    "  \n",
    "# Encode labels in column 'species'.\n",
    "y_encoded = label_encoder.fit_transform(y)\n",
    "  \n",
    "print(\"\\nBINARY CLASS: NON-UNIFORM LOAD (Positive: 175 count, Negative: 205 count\")\n",
    "\n",
    "print(\"Unique labels and respective counts after one-hot encoding: \")\n",
    "\n",
    "print(\"0 = Negative and 1 = Positive\")\n",
    "\n",
    "unique, counts = np.unique(y_encoded, return_counts=True)\n",
    "\n",
    "print(np.asarray((unique, counts)).T)\n",
    "\n",
    "random_classifier(y_encoded)"
   ]
  },
  {
   "cell_type": "markdown",
   "metadata": {},
   "source": [
    "Here, we see that the baseline classifier yields an accuracy of 51% and an f-1 score of 0.475 for positive values and 0.542 for negative values. Now, we explore the SVM linear kernel."
   ]
  },
  {
   "cell_type": "code",
   "execution_count": 23,
   "metadata": {},
   "outputs": [],
   "source": [
    "from sklearn.svm import SVC\n",
    "clf = SVC(C=0.45, kernel='linear')\n",
    "clf.fit(training_data, y_train)\n",
    "\n",
    "yp_train = clf.predict(training_data)\n",
    "yp_test = clf.predict(testing_data)"
   ]
  },
  {
   "cell_type": "code",
   "execution_count": 24,
   "metadata": {},
   "outputs": [],
   "source": [
    "cm_train = confusion_matrix(y_train, yp_train, labels=clf.classes_) # calculate confusion matrix\n",
    "cm_test = confusion_matrix(y_test, yp_test, labels=clf.classes_)\n",
    "\n",
    "target_names = ['Positive', 'Negative']\n",
    "clf_report_train_linear = classification_report(y_train, yp_train, target_names=target_names, output_dict=True)\n",
    "clf_report_test_linear = classification_report(y_test, yp_test, target_names=target_names, output_dict=True)"
   ]
  },
  {
   "cell_type": "code",
   "execution_count": 25,
   "metadata": {},
   "outputs": [],
   "source": [
    "clf_report_train_linear = pd.DataFrame(clf_report_train_linear).transpose()\n",
    "clf_report_test_linear = pd.DataFrame(clf_report_test_linear).transpose()"
   ]
  },
  {
   "cell_type": "code",
   "execution_count": 26,
   "metadata": {},
   "outputs": [
    {
     "name": "stdout",
     "output_type": "stream",
     "text": [
      "Classification Report of Linear SVM Train Data:\n"
     ]
    },
    {
     "data": {
      "text/html": [
       "<div>\n",
       "<style scoped>\n",
       "    .dataframe tbody tr th:only-of-type {\n",
       "        vertical-align: middle;\n",
       "    }\n",
       "\n",
       "    .dataframe tbody tr th {\n",
       "        vertical-align: top;\n",
       "    }\n",
       "\n",
       "    .dataframe thead th {\n",
       "        text-align: right;\n",
       "    }\n",
       "</style>\n",
       "<table border=\"1\" class=\"dataframe\">\n",
       "  <thead>\n",
       "    <tr style=\"text-align: right;\">\n",
       "      <th></th>\n",
       "      <th>precision</th>\n",
       "      <th>recall</th>\n",
       "      <th>f1-score</th>\n",
       "      <th>support</th>\n",
       "    </tr>\n",
       "  </thead>\n",
       "  <tbody>\n",
       "    <tr>\n",
       "      <th>Positive</th>\n",
       "      <td>1.0</td>\n",
       "      <td>1.0</td>\n",
       "      <td>1.0</td>\n",
       "      <td>148.0</td>\n",
       "    </tr>\n",
       "    <tr>\n",
       "      <th>Negative</th>\n",
       "      <td>1.0</td>\n",
       "      <td>1.0</td>\n",
       "      <td>1.0</td>\n",
       "      <td>216.0</td>\n",
       "    </tr>\n",
       "    <tr>\n",
       "      <th>accuracy</th>\n",
       "      <td>1.0</td>\n",
       "      <td>1.0</td>\n",
       "      <td>1.0</td>\n",
       "      <td>1.0</td>\n",
       "    </tr>\n",
       "    <tr>\n",
       "      <th>macro avg</th>\n",
       "      <td>1.0</td>\n",
       "      <td>1.0</td>\n",
       "      <td>1.0</td>\n",
       "      <td>364.0</td>\n",
       "    </tr>\n",
       "    <tr>\n",
       "      <th>weighted avg</th>\n",
       "      <td>1.0</td>\n",
       "      <td>1.0</td>\n",
       "      <td>1.0</td>\n",
       "      <td>364.0</td>\n",
       "    </tr>\n",
       "  </tbody>\n",
       "</table>\n",
       "</div>"
      ],
      "text/plain": [
       "              precision  recall  f1-score  support\n",
       "Positive            1.0     1.0       1.0    148.0\n",
       "Negative            1.0     1.0       1.0    216.0\n",
       "accuracy            1.0     1.0       1.0      1.0\n",
       "macro avg           1.0     1.0       1.0    364.0\n",
       "weighted avg        1.0     1.0       1.0    364.0"
      ]
     },
     "execution_count": 26,
     "metadata": {},
     "output_type": "execute_result"
    }
   ],
   "source": [
    "print(\"Classification Report of Linear SVM Train Data:\")\n",
    "clf_report_train_linear"
   ]
  },
  {
   "cell_type": "code",
   "execution_count": 27,
   "metadata": {},
   "outputs": [
    {
     "name": "stdout",
     "output_type": "stream",
     "text": [
      "Classification Report of Linear SVM Test Data:\n"
     ]
    },
    {
     "data": {
      "text/html": [
       "<div>\n",
       "<style scoped>\n",
       "    .dataframe tbody tr th:only-of-type {\n",
       "        vertical-align: middle;\n",
       "    }\n",
       "\n",
       "    .dataframe tbody tr th {\n",
       "        vertical-align: top;\n",
       "    }\n",
       "\n",
       "    .dataframe thead th {\n",
       "        text-align: right;\n",
       "    }\n",
       "</style>\n",
       "<table border=\"1\" class=\"dataframe\">\n",
       "  <thead>\n",
       "    <tr style=\"text-align: right;\">\n",
       "      <th></th>\n",
       "      <th>precision</th>\n",
       "      <th>recall</th>\n",
       "      <th>f1-score</th>\n",
       "      <th>support</th>\n",
       "    </tr>\n",
       "  </thead>\n",
       "  <tbody>\n",
       "    <tr>\n",
       "      <th>Positive</th>\n",
       "      <td>0.750000</td>\n",
       "      <td>0.705882</td>\n",
       "      <td>0.727273</td>\n",
       "      <td>34.000000</td>\n",
       "    </tr>\n",
       "    <tr>\n",
       "      <th>Negative</th>\n",
       "      <td>0.833333</td>\n",
       "      <td>0.862069</td>\n",
       "      <td>0.847458</td>\n",
       "      <td>58.000000</td>\n",
       "    </tr>\n",
       "    <tr>\n",
       "      <th>accuracy</th>\n",
       "      <td>0.804348</td>\n",
       "      <td>0.804348</td>\n",
       "      <td>0.804348</td>\n",
       "      <td>0.804348</td>\n",
       "    </tr>\n",
       "    <tr>\n",
       "      <th>macro avg</th>\n",
       "      <td>0.791667</td>\n",
       "      <td>0.783976</td>\n",
       "      <td>0.787365</td>\n",
       "      <td>92.000000</td>\n",
       "    </tr>\n",
       "    <tr>\n",
       "      <th>weighted avg</th>\n",
       "      <td>0.802536</td>\n",
       "      <td>0.804348</td>\n",
       "      <td>0.803041</td>\n",
       "      <td>92.000000</td>\n",
       "    </tr>\n",
       "  </tbody>\n",
       "</table>\n",
       "</div>"
      ],
      "text/plain": [
       "              precision    recall  f1-score    support\n",
       "Positive       0.750000  0.705882  0.727273  34.000000\n",
       "Negative       0.833333  0.862069  0.847458  58.000000\n",
       "accuracy       0.804348  0.804348  0.804348   0.804348\n",
       "macro avg      0.791667  0.783976  0.787365  92.000000\n",
       "weighted avg   0.802536  0.804348  0.803041  92.000000"
      ]
     },
     "execution_count": 27,
     "metadata": {},
     "output_type": "execute_result"
    }
   ],
   "source": [
    "print(\"Classification Report of Linear SVM Test Data:\")\n",
    "clf_report_test_linear"
   ]
  },
  {
   "cell_type": "code",
   "execution_count": 28,
   "metadata": {},
   "outputs": [
    {
     "data": {
      "text/plain": [
       "Text(0.5, 1.0, 'Confusion Matrix: Linear SVM Test Data')"
      ]
     },
     "execution_count": 28,
     "metadata": {},
     "output_type": "execute_result"
    },
    {
     "data": {
      "image/png": "[encoded data removed]",
      "text/plain": [
       "<Figure size 720x720 with 2 Axes>"
      ]
     },
     "metadata": {},
     "output_type": "display_data"
    }
   ],
   "source": [
    "# Display Confusion Matrix for the test data\n",
    "fig, ax = plt.subplots(figsize=(6,6), dpi=120)\n",
    "disp = ConfusionMatrixDisplay(confusion_matrix=cm_test, display_labels=clf.classes_)\n",
    "disp.plot(ax=ax, cmap=plt.cm.Blues, values_format='d', xticks_rotation='vertical')\n",
    "plt.title(\"Confusion Matrix: Linear SVM Test Data\")"
   ]
  },
  {
   "cell_type": "code",
   "execution_count": 29,
   "metadata": {},
   "outputs": [
    {
     "name": "stdout",
     "output_type": "stream",
     "text": [
      "The best parameters after tuning are:  {'C': 0.3, 'kernel': 'linear'}\n",
      "The best model after tuning looks like:  SVC(C=0.3, kernel='linear')\n",
      "              precision    recall  f1-score   support\n",
      "\n",
      "    Negative       0.75      0.71      0.73        34\n",
      "    Positive       0.83      0.86      0.85        58\n",
      "\n",
      "    accuracy                           0.80        92\n",
      "   macro avg       0.79      0.78      0.79        92\n",
      "weighted avg       0.80      0.80      0.80        92\n",
      "\n"
     ]
    }
   ],
   "source": [
    "from sklearn.svm import SVC\n",
    "\n",
    "from sklearn.model_selection import GridSearchCV  \n",
    "  \n",
    "# defining parameter range\n",
    "param_grid = {'C': [0.1, 0.3, 0.7, 1, 5, 10], \n",
    "              'kernel': ['linear']} \n",
    "  \n",
    "grid = GridSearchCV(SVC(), param_grid, refit = True, verbose = -1)\n",
    "\n",
    "grid.fit(training_data, y_train)\n",
    "\n",
    "# print best parameter after tuning\n",
    "print(\"The best parameters after tuning are: \", grid.best_params_)\n",
    "  \n",
    "# print how our model looks after hyper-parameter tuning\n",
    "print(\"The best model after tuning looks like: \",grid.best_estimator_)\n",
    "\n",
    "grid_predictions = grid.predict(testing_data)\n",
    "\n",
    "# print classification report\n",
    "print(classification_report(y_test, grid_predictions))"
   ]
  },
  {
   "cell_type": "code",
   "execution_count": 30,
   "metadata": {},
   "outputs": [
    {
     "data": {
      "text/plain": [
       "Text(0.5, 1.0, 'GridSearchCV Confusion Matrix: Linear SVM Test Data')"
      ]
     },
     "execution_count": 30,
     "metadata": {},
     "output_type": "execute_result"
    },
    {
     "data": {
      "image/png": "[encoded data removed]",
      "text/plain": [
       "<Figure size 720x720 with 2 Axes>"
      ]
     },
     "metadata": {},
     "output_type": "display_data"
    }
   ],
   "source": [
    "# Display Confusion Matrix for the above hyperparameter model.\n",
    "cm_test = confusion_matrix(y_test, grid_predictions, labels=grid.classes_)\n",
    "fig, ax = plt.subplots(figsize=(6,6), dpi=120)\n",
    "disp = ConfusionMatrixDisplay(confusion_matrix=cm_test, display_labels=clf.classes_)\n",
    "disp.plot(ax=ax, cmap=plt.cm.Blues, values_format='d', xticks_rotation='vertical')\n",
    "title_font = {'size':'10'}\n",
    "plt.title(\"GridSearchCV Confusion Matrix: Linear SVM Test Data\", **title_font)"
   ]
  },
  {
   "cell_type": "markdown",
   "metadata": {},
   "source": [
    "After performing hyperparameter tuning, we see that the performance of the SVM Linear Kernel remains unchanged. This shows that we had initially chosen the best model before performing hyperparameter turning."
   ]
  }
 ],
 "metadata": {
  "kernelspec": {
   "display_name": "Python 3.10.4 ('ANLY501')",
   "language": "python",
   "name": "python3"
  },
  "language_info": {
   "codemirror_mode": {
    "name": "ipython",
    "version": 3
   },
   "file_extension": ".py",
   "mimetype": "text/x-python",
   "name": "python",
   "nbconvert_exporter": "python",
   "pygments_lexer": "ipython3",
   "version": "3.10.4"
  },
  "orig_nbformat": 4,
  "vscode": {
   "interpreter": {
    "hash": "50713bdbbc3e204e62da7d6202fa01285d9e5e5c1c31384dff8d47ea6cf2274a"
   }
  }
 },
 "nbformat": 4,
 "nbformat_minor": 2
}
