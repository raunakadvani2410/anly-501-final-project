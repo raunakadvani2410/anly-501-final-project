{
 "cells": [
  {
   "cell_type": "markdown",
   "metadata": {},
   "source": [
    "# News API Data Cleaning in Python"
   ]
  },
  {
   "cell_type": "code",
   "execution_count": 1,
   "metadata": {},
   "outputs": [],
   "source": [
    "import pandas as pd # import necessary packages\n",
    "import nltk\n",
    "import json\n",
    "import ast\n",
    "import matplotlib.pyplot as plt\n",
    "%matplotlib inline\n",
    "import warnings\n",
    "warnings.filterwarnings(\"ignore\")"
   ]
  },
  {
   "cell_type": "code",
   "execution_count": 2,
   "metadata": {},
   "outputs": [],
   "source": [
    "news_df = pd.read_csv(\"../../data/raw-data/Newsapi_raw.csv\", index_col=[0])"
   ]
  },
  {
   "cell_type": "code",
   "execution_count": 5,
   "metadata": {},
   "outputs": [
    {
     "data": {
      "text/plain": [
       "source         False\n",
       "author          True\n",
       "title          False\n",
       "description     True\n",
       "url            False\n",
       "urlToImage     False\n",
       "publishedAt    False\n",
       "content        False\n",
       "dtype: bool"
      ]
     },
     "execution_count": 5,
     "metadata": {},
     "output_type": "execute_result"
    }
   ],
   "source": [
    "df = pd.DataFrame(news_df) # create df copy to avoid losing original data\n",
    "\n",
    "df.isna().any() # check if any values are NA"
   ]
  },
  {
   "cell_type": "code",
   "execution_count": 22,
   "metadata": {},
   "outputs": [
    {
     "data": {
      "text/plain": [
       "(456, 8)"
      ]
     },
     "execution_count": 22,
     "metadata": {},
     "output_type": "execute_result"
    }
   ],
   "source": [
    "df.shape # look at shape of data frame"
   ]
  },
  {
   "cell_type": "code",
   "execution_count": 23,
   "metadata": {},
   "outputs": [
    {
     "data": {
      "text/html": [
       "<div>\n",
       "<style scoped>\n",
       "    .dataframe tbody tr th:only-of-type {\n",
       "        vertical-align: middle;\n",
       "    }\n",
       "\n",
       "    .dataframe tbody tr th {\n",
       "        vertical-align: top;\n",
       "    }\n",
       "\n",
       "    .dataframe thead th {\n",
       "        text-align: right;\n",
       "    }\n",
       "</style>\n",
       "<table border=\"1\" class=\"dataframe\">\n",
       "  <thead>\n",
       "    <tr style=\"text-align: right;\">\n",
       "      <th></th>\n",
       "      <th>source</th>\n",
       "      <th>author</th>\n",
       "      <th>title</th>\n",
       "      <th>description</th>\n",
       "      <th>url</th>\n",
       "      <th>urlToImage</th>\n",
       "      <th>publishedAt</th>\n",
       "      <th>content</th>\n",
       "    </tr>\n",
       "  </thead>\n",
       "  <tbody>\n",
       "    <tr>\n",
       "      <th>0</th>\n",
       "      <td>Reuters</td>\n",
       "      <td>NaN</td>\n",
       "      <td>Global recession can be avoided with right fis...</td>\n",
       "      <td>Global recession can be avoided if governments...</td>\n",
       "      <td>https://www.reuters.com/markets/asia/global-re...</td>\n",
       "      <td>https://www.reuters.com/resizer/8W8fki9z-vL-Y0...</td>\n",
       "      <td>2022-10-03T19:22:00Z</td>\n",
       "      <td>RIYADH, Oct 3 (Reuters) - Global recession can...</td>\n",
       "    </tr>\n",
       "    <tr>\n",
       "      <th>1</th>\n",
       "      <td>Reuters</td>\n",
       "      <td>NaN</td>\n",
       "      <td>Oil extends losses on recession fears - Reuters</td>\n",
       "      <td>Oil prices dipped in early trade on Friday, ex...</td>\n",
       "      <td>https://www.reuters.com/business/energy/oil-ex...</td>\n",
       "      <td>https://www.reuters.com/resizer/NTtAASgfx7F4Ph...</td>\n",
       "      <td>2022-09-16T01:21:00Z</td>\n",
       "      <td>MELBOURNE, Sept 16 (Reuters) - Oil prices dipp...</td>\n",
       "    </tr>\n",
       "    <tr>\n",
       "      <th>2</th>\n",
       "      <td>Reuters</td>\n",
       "      <td>Reuters Editorial</td>\n",
       "      <td>BoE raises rates, despite likely recession - R...</td>\n",
       "      <td>The Bank of England raised its key interest ra...</td>\n",
       "      <td>https://www.reuters.com/video/watch/idOV725522...</td>\n",
       "      <td>https://static.reuters.com/resources/r/?d=2022...</td>\n",
       "      <td>2022-09-22T15:16:36Z</td>\n",
       "      <td>Posted \\r\\nThe Bank of England raised its key ...</td>\n",
       "    </tr>\n",
       "    <tr>\n",
       "      <th>3</th>\n",
       "      <td>Reuters</td>\n",
       "      <td>NaN</td>\n",
       "      <td>IMF sees further slowdown in global economy in...</td>\n",
       "      <td>Downside risks continue to dominate the global...</td>\n",
       "      <td>https://www.reuters.com/markets/rates-bonds/im...</td>\n",
       "      <td>https://www.reuters.com/resizer/mgUzrgQRgDb4lp...</td>\n",
       "      <td>2022-09-15T14:52:00Z</td>\n",
       "      <td>WASHINGTON, Sept 15 (Reuters) - Downside risks...</td>\n",
       "    </tr>\n",
       "    <tr>\n",
       "      <th>4</th>\n",
       "      <td>Reuters</td>\n",
       "      <td>NaN</td>\n",
       "      <td>Sterling dented by modest BoE rate hike - Reuters</td>\n",
       "      <td>Sterling surrendered gains against the dollar ...</td>\n",
       "      <td>https://www.reuters.com/markets/europe/sterlin...</td>\n",
       "      <td>https://www.reuters.com/resizer/HrhaG8Jv61uAHo...</td>\n",
       "      <td>2022-09-22T11:34:00Z</td>\n",
       "      <td>LONDON, Sept 22 (Reuters) - Sterling surrender...</td>\n",
       "    </tr>\n",
       "    <tr>\n",
       "      <th>5</th>\n",
       "      <td>Reuters</td>\n",
       "      <td>NaN</td>\n",
       "      <td>German economy to slide into recession - EconM...</td>\n",
       "      <td>The German government expects Europe's largest...</td>\n",
       "      <td>https://www.reuters.com/markets/europe/german-...</td>\n",
       "      <td>https://www.reuters.com/resizer/oU9m0CHehHHcYd...</td>\n",
       "      <td>2022-10-12T11:35:00Z</td>\n",
       "      <td>BERLIN, Oct 12 (Reuters) - The German governme...</td>\n",
       "    </tr>\n",
       "    <tr>\n",
       "      <th>6</th>\n",
       "      <td>Reuters</td>\n",
       "      <td>NaN</td>\n",
       "      <td>Column: Copper price slump brings Chinese buye...</td>\n",
       "      <td>While the rest of the world worries about rece...</td>\n",
       "      <td>https://www.reuters.com/markets/commodities/co...</td>\n",
       "      <td>https://www.reuters.com/pf/resources/images/re...</td>\n",
       "      <td>2022-09-27T14:11:00Z</td>\n",
       "      <td>LONDON, Sept 27 (Reuters) - While the rest of ...</td>\n",
       "    </tr>\n",
       "    <tr>\n",
       "      <th>7</th>\n",
       "      <td>Reuters</td>\n",
       "      <td>NaN</td>\n",
       "      <td>Futures fall on FedEx warning, recession fears...</td>\n",
       "      <td>U.S. stock index futures slipped on Friday, ex...</td>\n",
       "      <td>https://www.reuters.com/markets/europe/futures...</td>\n",
       "      <td>https://www.reuters.com/resizer/a2VymbMJAsHbCg...</td>\n",
       "      <td>2022-09-16T09:11:00Z</td>\n",
       "      <td>Sept 16 (Reuters) - U.S. stock index futures s...</td>\n",
       "    </tr>\n",
       "    <tr>\n",
       "      <th>8</th>\n",
       "      <td>Reuters</td>\n",
       "      <td>NaN</td>\n",
       "      <td>SNB's Jordan can't rule out recession - Blick ...</td>\n",
       "      <td>The Swiss National Bank does not think the Swi...</td>\n",
       "      <td>https://www.reuters.com/markets/europe/snbs-jo...</td>\n",
       "      <td>https://www.reuters.com/resizer/9lqTA_Td3SH_H-...</td>\n",
       "      <td>2022-09-23T05:29:00Z</td>\n",
       "      <td>ZURICH, Sept 23 (Reuters) - The Swiss National...</td>\n",
       "    </tr>\n",
       "    <tr>\n",
       "      <th>9</th>\n",
       "      <td>Reuters</td>\n",
       "      <td>NaN</td>\n",
       "      <td>Abu Dhabi leads Gulf declines on recession fea...</td>\n",
       "      <td>Abu Dhabi's stock market fell in early trade o...</td>\n",
       "      <td>https://www.reuters.com/markets/asia/abu-dhabi...</td>\n",
       "      <td>https://www.reuters.com/resizer/MyQoXqb9dWpL6i...</td>\n",
       "      <td>2022-09-26T08:48:00Z</td>\n",
       "      <td>Sept 26 (Reuters) - Abu Dhabi's stock market f...</td>\n",
       "    </tr>\n",
       "  </tbody>\n",
       "</table>\n",
       "</div>"
      ],
      "text/plain": [
       "     source             author  \\\n",
       "0   Reuters                NaN   \n",
       "1   Reuters                NaN   \n",
       "2   Reuters  Reuters Editorial   \n",
       "3   Reuters                NaN   \n",
       "4   Reuters                NaN   \n",
       "5   Reuters                NaN   \n",
       "6   Reuters                NaN   \n",
       "7   Reuters                NaN   \n",
       "8   Reuters                NaN   \n",
       "9   Reuters                NaN   \n",
       "\n",
       "                                               title  \\\n",
       "0  Global recession can be avoided with right fis...   \n",
       "1    Oil extends losses on recession fears - Reuters   \n",
       "2  BoE raises rates, despite likely recession - R...   \n",
       "3  IMF sees further slowdown in global economy in...   \n",
       "4  Sterling dented by modest BoE rate hike - Reuters   \n",
       "5  German economy to slide into recession - EconM...   \n",
       "6  Column: Copper price slump brings Chinese buye...   \n",
       "7  Futures fall on FedEx warning, recession fears...   \n",
       "8  SNB's Jordan can't rule out recession - Blick ...   \n",
       "9  Abu Dhabi leads Gulf declines on recession fea...   \n",
       "\n",
       "                                         description  \\\n",
       "0  Global recession can be avoided if governments...   \n",
       "1  Oil prices dipped in early trade on Friday, ex...   \n",
       "2  The Bank of England raised its key interest ra...   \n",
       "3  Downside risks continue to dominate the global...   \n",
       "4  Sterling surrendered gains against the dollar ...   \n",
       "5  The German government expects Europe's largest...   \n",
       "6  While the rest of the world worries about rece...   \n",
       "7  U.S. stock index futures slipped on Friday, ex...   \n",
       "8  The Swiss National Bank does not think the Swi...   \n",
       "9  Abu Dhabi's stock market fell in early trade o...   \n",
       "\n",
       "                                                 url  \\\n",
       "0  https://www.reuters.com/markets/asia/global-re...   \n",
       "1  https://www.reuters.com/business/energy/oil-ex...   \n",
       "2  https://www.reuters.com/video/watch/idOV725522...   \n",
       "3  https://www.reuters.com/markets/rates-bonds/im...   \n",
       "4  https://www.reuters.com/markets/europe/sterlin...   \n",
       "5  https://www.reuters.com/markets/europe/german-...   \n",
       "6  https://www.reuters.com/markets/commodities/co...   \n",
       "7  https://www.reuters.com/markets/europe/futures...   \n",
       "8  https://www.reuters.com/markets/europe/snbs-jo...   \n",
       "9  https://www.reuters.com/markets/asia/abu-dhabi...   \n",
       "\n",
       "                                          urlToImage           publishedAt  \\\n",
       "0  https://www.reuters.com/resizer/8W8fki9z-vL-Y0...  2022-10-03T19:22:00Z   \n",
       "1  https://www.reuters.com/resizer/NTtAASgfx7F4Ph...  2022-09-16T01:21:00Z   \n",
       "2  https://static.reuters.com/resources/r/?d=2022...  2022-09-22T15:16:36Z   \n",
       "3  https://www.reuters.com/resizer/mgUzrgQRgDb4lp...  2022-09-15T14:52:00Z   \n",
       "4  https://www.reuters.com/resizer/HrhaG8Jv61uAHo...  2022-09-22T11:34:00Z   \n",
       "5  https://www.reuters.com/resizer/oU9m0CHehHHcYd...  2022-10-12T11:35:00Z   \n",
       "6  https://www.reuters.com/pf/resources/images/re...  2022-09-27T14:11:00Z   \n",
       "7  https://www.reuters.com/resizer/a2VymbMJAsHbCg...  2022-09-16T09:11:00Z   \n",
       "8  https://www.reuters.com/resizer/9lqTA_Td3SH_H-...  2022-09-23T05:29:00Z   \n",
       "9  https://www.reuters.com/resizer/MyQoXqb9dWpL6i...  2022-09-26T08:48:00Z   \n",
       "\n",
       "                                             content  \n",
       "0  RIYADH, Oct 3 (Reuters) - Global recession can...  \n",
       "1  MELBOURNE, Sept 16 (Reuters) - Oil prices dipp...  \n",
       "2  Posted \\r\\nThe Bank of England raised its key ...  \n",
       "3  WASHINGTON, Sept 15 (Reuters) - Downside risks...  \n",
       "4  LONDON, Sept 22 (Reuters) - Sterling surrender...  \n",
       "5  BERLIN, Oct 12 (Reuters) - The German governme...  \n",
       "6  LONDON, Sept 27 (Reuters) - While the rest of ...  \n",
       "7  Sept 16 (Reuters) - U.S. stock index futures s...  \n",
       "8  ZURICH, Sept 23 (Reuters) - The Swiss National...  \n",
       "9  Sept 26 (Reuters) - Abu Dhabi's stock market f...  "
      ]
     },
     "execution_count": 23,
     "metadata": {},
     "output_type": "execute_result"
    }
   ],
   "source": [
    "df.head(10) # look at first 10 rows"
   ]
  },
  {
   "cell_type": "code",
   "execution_count": 24,
   "metadata": {},
   "outputs": [],
   "source": [
    "import re\n",
    "news_df['source'] = [re.sub(\"[^:]*,[^:]*\", \"\", x) for x in news_df['source']] # remove unnecessary characters\n",
    "news_df['source'] = [re.sub(\"'id'::\", \"\", x) for x in news_df['source']]\n",
    "news_df['source'] = [re.sub(\"\\\\{|\\\\}\", \"\", x) for x in news_df['source']]\n",
    "news_df['source'] = [re.sub(\"'\", \"\", x) for x in news_df['source']]"
   ]
  },
  {
   "cell_type": "code",
   "execution_count": 9,
   "metadata": {},
   "outputs": [
    {
     "data": {
      "text/plain": [
       " Reuters             318\n",
       " Business Insider    136\n",
       " BBC News              2\n",
       "Name: source, dtype: int64"
      ]
     },
     "execution_count": 9,
     "metadata": {},
     "output_type": "execute_result"
    }
   ],
   "source": [
    "news_df['source'].value_counts()"
   ]
  },
  {
   "cell_type": "markdown",
   "metadata": {},
   "source": [
    "Since we see that the author column has NA values, we can check if we can replace it with relevant information or simply drop the rows"
   ]
  },
  {
   "cell_type": "code",
   "execution_count": 10,
   "metadata": {},
   "outputs": [],
   "source": [
    "is_NaN = df.isnull()\n",
    "row_has_NaN = is_NaN.any(axis=1)\n",
    "rows_with_NaN = df[row_has_NaN]"
   ]
  },
  {
   "cell_type": "markdown",
   "metadata": {},
   "source": [
    "### Cleaning Content Column"
   ]
  },
  {
   "cell_type": "code",
   "execution_count": 11,
   "metadata": {},
   "outputs": [],
   "source": [
    "cleaned=[]\n",
    "for i in news_df['content']:\n",
    "  if (i.find('...')!=-1) or (i.find('....')!=-1) or (i.find(\"..\")!=-1):\n",
    "    new=i.replace(\"...\",\" \").replace(\"....\",\" \").replace(\"..\",\" \")\n",
    "    cleaned.append(new.strip())\n",
    "  else:\n",
    "    cleaned.append(i.strip())"
   ]
  },
  {
   "cell_type": "code",
   "execution_count": 12,
   "metadata": {},
   "outputs": [],
   "source": [
    "import string\n",
    "\n",
    "string.punctuation\n",
    "\n",
    "def remove_punct(text):\n",
    "    text  = \"\".join([char for char in text if char not in string.punctuation])\n",
    "    text = re.sub('[0-9]+', '', text) #removes numbers from text\n",
    "    return text\n",
    "\n",
    "\n",
    "news_df['clean_content']=news_df['content'].apply(lambda x: remove_punct(x))"
   ]
  },
  {
   "cell_type": "code",
   "execution_count": 13,
   "metadata": {},
   "outputs": [],
   "source": [
    "def tokenization(text):\n",
    "    text = re.split('\\W+', text) #splitting each sentence/ tweet into its individual words\n",
    "    return text\n",
    "\n",
    "news_df['content_tokenized'] = news_df['clean_content'].apply(lambda x: tokenization(x.lower()))"
   ]
  },
  {
   "cell_type": "code",
   "execution_count": 14,
   "metadata": {},
   "outputs": [],
   "source": [
    "stopwords = nltk.corpus.stopwords.words('english')\n",
    "\n",
    "def remove_stopwords(text):\n",
    "    text = [word for word in text if word not in stopwords] # remove stopwords\n",
    "    return text\n",
    "    \n",
    "news_df['content_nonstop'] = news_df['content_tokenized'].apply(lambda x: remove_stopwords(x))"
   ]
  },
  {
   "cell_type": "code",
   "execution_count": 17,
   "metadata": {},
   "outputs": [],
   "source": [
    "wordnet = nltk.WordNetLemmatizer()\n",
    "\n",
    "def lemmatizer(text):\n",
    "    text = [wordnet.lemmatize(word) for word in text]\n",
    "    return text\n",
    "\n",
    "news_df['content_lemmatized'] = news_df['content_nonstop'].apply(lambda x: lemmatizer(x))"
   ]
  },
  {
   "cell_type": "code",
   "execution_count": 18,
   "metadata": {},
   "outputs": [],
   "source": [
    "from nltk.sentiment.vader import SentimentIntensityAnalyzer\n",
    "\n",
    "lemma=[]\n",
    "for i in news_df['content_lemmatized']:\n",
    "  s = \" \".join(x for x in i)\n",
    "  n=s.replace(\"[\",\"\").replace(\"]\",\"\").replace(\",\",\" \").replace(\"'\", \"\")\n",
    "  lemma.append(n) \n",
    "\n",
    "news_df['Content_Lemmatized_Sentiment_Analysis']=lemma\n",
    "\n",
    "analyzer = SentimentIntensityAnalyzer()\n",
    "news_df['sentiment_rating'] = news_df['Content_Lemmatized_Sentiment_Analysis'].apply(analyzer.polarity_scores)\n",
    "\n",
    "def just_compound(x):\n",
    "    return x['compound']\n",
    "\n",
    "news_df['sentiment_rating'] = news_df['sentiment_rating'].apply(lambda x: just_compound(x))\n"
   ]
  },
  {
   "cell_type": "code",
   "execution_count": 19,
   "metadata": {},
   "outputs": [],
   "source": [
    "news_df_nb = news_df[['Content_Lemmatized_Sentiment_Analysis', 'sentiment_rating']]"
   ]
  },
  {
   "cell_type": "code",
   "execution_count": 20,
   "metadata": {},
   "outputs": [],
   "source": [
    "news_df_nb['label'] = news_df_nb['sentiment_rating'].apply(lambda x: \"Negative\" if x <0 else \"Positive\")"
   ]
  },
  {
   "cell_type": "code",
   "execution_count": 21,
   "metadata": {},
   "outputs": [
    {
     "data": {
      "text/html": [
       "<div>\n",
       "<style scoped>\n",
       "    .dataframe tbody tr th:only-of-type {\n",
       "        vertical-align: middle;\n",
       "    }\n",
       "\n",
       "    .dataframe tbody tr th {\n",
       "        vertical-align: top;\n",
       "    }\n",
       "\n",
       "    .dataframe thead th {\n",
       "        text-align: right;\n",
       "    }\n",
       "</style>\n",
       "<table border=\"1\" class=\"dataframe\">\n",
       "  <thead>\n",
       "    <tr style=\"text-align: right;\">\n",
       "      <th></th>\n",
       "      <th>Content_Lemmatized_Sentiment_Analysis</th>\n",
       "      <th>sentiment_rating</th>\n",
       "      <th>label</th>\n",
       "    </tr>\n",
       "  </thead>\n",
       "  <tbody>\n",
       "    <tr>\n",
       "      <th>0</th>\n",
       "      <td>riyadh oct reuters global recession avoided go...</td>\n",
       "      <td>-0.8225</td>\n",
       "      <td>Negative</td>\n",
       "    </tr>\n",
       "    <tr>\n",
       "      <th>1</th>\n",
       "      <td>melbourne sept reuters oil price dipped early ...</td>\n",
       "      <td>-0.6249</td>\n",
       "      <td>Negative</td>\n",
       "    </tr>\n",
       "    <tr>\n",
       "      <th>2</th>\n",
       "      <td>posted bank england raised key interest rate t...</td>\n",
       "      <td>0.4588</td>\n",
       "      <td>Positive</td>\n",
       "    </tr>\n",
       "    <tr>\n",
       "      <th>3</th>\n",
       "      <td>washington sept reuters downside risk continue...</td>\n",
       "      <td>-0.7506</td>\n",
       "      <td>Negative</td>\n",
       "    </tr>\n",
       "    <tr>\n",
       "      <th>4</th>\n",
       "      <td>london sept reuters sterling surrendered gain ...</td>\n",
       "      <td>0.7506</td>\n",
       "      <td>Positive</td>\n",
       "    </tr>\n",
       "    <tr>\n",
       "      <th>5</th>\n",
       "      <td>berlin oct reuters german government expects e...</td>\n",
       "      <td>-0.7003</td>\n",
       "      <td>Negative</td>\n",
       "    </tr>\n",
       "    <tr>\n",
       "      <th>6</th>\n",
       "      <td>london sept reuters rest world worry recession...</td>\n",
       "      <td>-0.6908</td>\n",
       "      <td>Negative</td>\n",
       "    </tr>\n",
       "    <tr>\n",
       "      <th>7</th>\n",
       "      <td>sept reuters u stock index future slipped frid...</td>\n",
       "      <td>-0.6369</td>\n",
       "      <td>Negative</td>\n",
       "    </tr>\n",
       "    <tr>\n",
       "      <th>8</th>\n",
       "      <td>zurich sept reuters swiss national bank think ...</td>\n",
       "      <td>-0.5702</td>\n",
       "      <td>Negative</td>\n",
       "    </tr>\n",
       "    <tr>\n",
       "      <th>9</th>\n",
       "      <td>sept reuters abu dhabis stock market fell earl...</td>\n",
       "      <td>-0.1531</td>\n",
       "      <td>Negative</td>\n",
       "    </tr>\n",
       "  </tbody>\n",
       "</table>\n",
       "</div>"
      ],
      "text/plain": [
       "               Content_Lemmatized_Sentiment_Analysis  sentiment_rating  \\\n",
       "0  riyadh oct reuters global recession avoided go...           -0.8225   \n",
       "1  melbourne sept reuters oil price dipped early ...           -0.6249   \n",
       "2  posted bank england raised key interest rate t...            0.4588   \n",
       "3  washington sept reuters downside risk continue...           -0.7506   \n",
       "4  london sept reuters sterling surrendered gain ...            0.7506   \n",
       "5  berlin oct reuters german government expects e...           -0.7003   \n",
       "6  london sept reuters rest world worry recession...           -0.6908   \n",
       "7  sept reuters u stock index future slipped frid...           -0.6369   \n",
       "8  zurich sept reuters swiss national bank think ...           -0.5702   \n",
       "9  sept reuters abu dhabis stock market fell earl...           -0.1531   \n",
       "\n",
       "      label  \n",
       "0  Negative  \n",
       "1  Negative  \n",
       "2  Positive  \n",
       "3  Negative  \n",
       "4  Positive  \n",
       "5  Negative  \n",
       "6  Negative  \n",
       "7  Negative  \n",
       "8  Negative  \n",
       "9  Negative  "
      ]
     },
     "execution_count": 21,
     "metadata": {},
     "output_type": "execute_result"
    }
   ],
   "source": [
    "news_df_nb.head(10)"
   ]
  },
  {
   "cell_type": "code",
   "execution_count": 25,
   "metadata": {},
   "outputs": [],
   "source": [
    "news_df_nb.to_csv(\"../../data/clean-data/news_clean.csv\")"
   ]
  }
 ],
 "metadata": {
  "kernelspec": {
   "display_name": "Python 3.10.4 ('ANLY501')",
   "language": "python",
   "name": "python3"
  },
  "language_info": {
   "codemirror_mode": {
    "name": "ipython",
    "version": 3
   },
   "file_extension": ".py",
   "mimetype": "text/x-python",
   "name": "python",
   "nbconvert_exporter": "python",
   "pygments_lexer": "ipython3",
   "version": "3.10.4"
  },
  "orig_nbformat": 4,
  "vscode": {
   "interpreter": {
    "hash": "50713bdbbc3e204e62da7d6202fa01285d9e5e5c1c31384dff8d47ea6cf2274a"
   }
  }
 },
 "nbformat": 4,
 "nbformat_minor": 2
}
